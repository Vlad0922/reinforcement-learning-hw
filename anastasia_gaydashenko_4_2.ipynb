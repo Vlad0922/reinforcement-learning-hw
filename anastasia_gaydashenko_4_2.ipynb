{
 "cells": [
  {
   "cell_type": "code",
   "execution_count": 1,
   "metadata": {
    "collapsed": true
   },
   "outputs": [],
   "source": [
    "import numpy as np\n",
    "import matplotlib.pyplot as plt\n",
    "\n",
    "np.random.seed(0)\n",
    "\n",
    "%matplotlib inline"
   ]
  },
  {
   "cell_type": "code",
   "execution_count": 2,
   "metadata": {
    "collapsed": true
   },
   "outputs": [],
   "source": [
    "N = 3\n",
    "M = 3"
   ]
  },
  {
   "cell_type": "code",
   "execution_count": 3,
   "metadata": {
    "collapsed": true
   },
   "outputs": [],
   "source": [
    "ϵ = 0.1\n",
    "α = 1\n",
    "γ = 1\n",
    "θ = 1"
   ]
  },
  {
   "cell_type": "code",
   "execution_count": 4,
   "metadata": {
    "collapsed": true
   },
   "outputs": [],
   "source": [
    "class Cell:\n",
    "    def __init__(self, i, j, cow_in_cell=False, cows=0, n=N, m=M):\n",
    "        self.i = i\n",
    "        self.j = j\n",
    "        self.cow_in_cell = cow_in_cell\n",
    "        self.cows = cows\n",
    "        self.actions = []\n",
    "        self.value = []\n",
    "        self.terminal = False\n",
    "        \n",
    "        if j < m-1:\n",
    "            self.actions.append('r')\n",
    "        if j > 0:\n",
    "            self.actions.append('l')\n",
    "        if i > 0:\n",
    "            self.actions.append('u')\n",
    "        if i < n-1:\n",
    "            self.actions.append('d')\n",
    "            \n",
    "        self.value = np.zeros(len(self.actions))\n",
    "        \n",
    "    def __repr__(self):\n",
    "        return \"v: {v}, a: {a}\".format(v=self.value, a=self.actions)\n",
    "        \n",
    "    def make_terminal(self):\n",
    "        self.terminal = True\n",
    "        self.actions = ['.']\n",
    "        self.value = np.array([0])\n",
    "        \n",
    "    def next_state(self):        \n",
    "        i, j = self.i, self.j\n",
    "        \n",
    "        if len(self.actions) > 1:\n",
    "            prob = np.ones(len(self.actions)) * (ϵ / (len(self.actions) - 1))\n",
    "            prob[np.argmax(self.value)] = 1 - ϵ\n",
    "        else:\n",
    "            prob = np.array([1])\n",
    "        ind = np.random.choice(range(len(self.actions)), p=prob)\n",
    "        action = self.actions[ind]\n",
    "        \n",
    "        if action == 'r': j += 1\n",
    "        elif action == 'l': j -= 1\n",
    "        elif action == 'u': i -= 1\n",
    "        elif action == 'd': i += 1\n",
    "        \n",
    "        return i, j, ind"
   ]
  },
  {
   "cell_type": "code",
   "execution_count": 5,
   "metadata": {
    "collapsed": false
   },
   "outputs": [],
   "source": [
    "def new_grid():\n",
    "    cows = [(0,0),(0,M-1),(1,M-1)]\n",
    "    \n",
    "    grid = {}\n",
    "    for i in range(N):\n",
    "        for j in range(M):\n",
    "            cow_in_cell = (i,j) in cows\n",
    "            grid[i, j, 0] = Cell(i, j, cow_in_cell, 0)\n",
    "            \n",
    "    grid[N-1, 0, len(cows)] = Cell(i, j, False, len(cows))\n",
    "    grid[N-1, 0, len(cows)].make_terminal()\n",
    "    return grid"
   ]
  },
  {
   "cell_type": "code",
   "execution_count": 6,
   "metadata": {
    "collapsed": false
   },
   "outputs": [],
   "source": [
    "grid = new_grid()\n",
    "np.random.seed(0)\n",
    "\n",
    "it = 1000\n",
    "rewards = []\n",
    "\n",
    "for _ in range(it):\n",
    "\n",
    "    s = grid[N-1, 0, 0]\n",
    "    i, j, ind = s.next_state()\n",
    "\n",
    "    curr_r = 0\n",
    "    \n",
    "    while True:       \n",
    "        R = -2\n",
    "\n",
    "        if (i, j, s.cows) not in grid.keys():\n",
    "            cow = True\n",
    "            for i_, j_, cow_ in grid:\n",
    "                if i_ == i and j_ == j:\n",
    "                    cow &= grid[i, j, cow_].cow_in_cell\n",
    "            grid[i, j, s.cows] = Cell(i, j, cow, s.cows)\n",
    "\n",
    "        if grid[i, j, s.cows].cow_in_cell:\n",
    "            if (i, j, s.cows+1) not in grid.keys():\n",
    "                grid[i, j, s.cows+1] = Cell(i, j, False, s.cows+1)\n",
    "            s_ = grid[i, j, s.cows+1]\n",
    "        else:\n",
    "            s_ = grid[i, j, s.cows]\n",
    "\n",
    "\n",
    "        if i == N-1 and j == 0 and s.cows == 3:\n",
    "            R = 100 * s.cows\n",
    "\n",
    "        i_, j_, ind_ = s_.next_state()\n",
    "\n",
    "        s.value[ind] += α * (R + γ * s_.value[ind_] - s.value[ind])\n",
    "        \n",
    "        curr_r += R\n",
    "\n",
    "        if s_.terminal:\n",
    "            rewards.append(curr_r)\n",
    "            break\n",
    "\n",
    "        s = s_\n",
    "        i, j, ind = i_, j_, ind_"
   ]
  },
  {
   "cell_type": "code",
   "execution_count": 7,
   "metadata": {
    "collapsed": false
   },
   "outputs": [
    {
     "data": {
      "text/plain": [
       "<matplotlib.text.Text at 0x72a2a90>"
      ]
     },
     "execution_count": 7,
     "metadata": {},
     "output_type": "execute_result"
    },
    {
     "data": {
      "image/png": "[encoded data removed]",
      "text/plain": [
       "<matplotlib.figure.Figure at 0x726f128>"
      ]
     },
     "metadata": {},
     "output_type": "display_data"
    }
   ],
   "source": [
    "plt.plot(range(it), rewards)\n",
    "plt.title('Sarsa')\n",
    "plt.xlabel('episods')\n",
    "plt.ylabel('reward')"
   ]
  },
  {
   "cell_type": "code",
   "execution_count": 8,
   "metadata": {
    "collapsed": false
   },
   "outputs": [],
   "source": [
    "grid = new_grid()\n",
    "np.random.seed(0)\n",
    "\n",
    "it = 100\n",
    "rewards = []\n",
    "\n",
    "for _ in range(it):\n",
    "\n",
    "    s = grid[N-1, 0, 0]\n",
    "    i, j, ind = s.next_state()\n",
    "\n",
    "    curr_r = 0\n",
    "    \n",
    "    while True:       \n",
    "        R = -2\n",
    "\n",
    "        if (i, j, s.cows) not in grid.keys():\n",
    "            cow = True\n",
    "            for i_, j_, cow_ in grid:\n",
    "                if i_ == i and j_ == j:\n",
    "                    cow &= grid[i, j, cow_].cow_in_cell\n",
    "            grid[i, j, s.cows] = Cell(i, j, cow, s.cows)\n",
    "\n",
    "        if grid[i, j, s.cows].cow_in_cell:\n",
    "            if (i, j, s.cows+1) not in grid.keys():\n",
    "                grid[i, j, s.cows+1] = Cell(i, j, False, s.cows+1)\n",
    "            s_ = grid[i, j, s.cows+1]\n",
    "        else:\n",
    "            s_ = grid[i, j, s.cows]\n",
    "\n",
    "        if i == N-1 and j == 0 and s.cows == 3:\n",
    "            R = 100 * s.cows\n",
    "\n",
    "        s.value[ind] += α * (R + γ * np.max(s_.value) - s.value[ind])\n",
    "        \n",
    "        curr_r += R\n",
    "\n",
    "        if s_.terminal:\n",
    "            rewards.append(curr_r)\n",
    "            break\n",
    "\n",
    "        s = s_\n",
    "        i, j, ind = s.next_state()"
   ]
  },
  {
   "cell_type": "code",
   "execution_count": 9,
   "metadata": {
    "collapsed": false
   },
   "outputs": [
    {
     "data": {
      "text/plain": [
       "<matplotlib.text.Text at 0x7375ac8>"
      ]
     },
     "execution_count": 9,
     "metadata": {},
     "output_type": "execute_result"
    },
    {
     "data": {
      "image/png": "[encoded data removed]",
      "text/plain": [
       "<matplotlib.figure.Figure at 0x7339da0>"
      ]
     },
     "metadata": {},
     "output_type": "display_data"
    }
   ],
   "source": [
    "plt.plot(range(it), rewards)\n",
    "plt.title('Q-learning')\n",
    "plt.xlabel('episods')\n",
    "plt.ylabel('reward')"
   ]
  },
  {
   "cell_type": "code",
   "execution_count": null,
   "metadata": {
    "collapsed": true
   },
   "outputs": [],
   "source": []
  }
 ],
 "metadata": {
  "kernelspec": {
   "display_name": "Python 3",
   "language": "python",
   "name": "python3"
  },
  "language_info": {
   "codemirror_mode": {
    "name": "ipython",
    "version": 3
   },
   "file_extension": ".py",
   "mimetype": "text/x-python",
   "name": "python",
   "nbconvert_exporter": "python",
   "pygments_lexer": "ipython3",
   "version": "3.5.3"
  }
 },
 "nbformat": 4,
 "nbformat_minor": 0
}
