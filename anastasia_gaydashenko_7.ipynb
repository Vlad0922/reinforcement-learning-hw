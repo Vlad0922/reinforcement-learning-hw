{
 "cells": [
  {
   "cell_type": "code",
   "execution_count": 1,
   "metadata": {
    "collapsed": true
   },
   "outputs": [],
   "source": [
    "import numpy as np\n",
    "import matplotlib.pyplot as plt\n",
    "from itertools import combinations\n",
    "from tqdm import tqdm\n",
    "\n",
    "%matplotlib inline"
   ]
  },
  {
   "cell_type": "code",
   "execution_count": 2,
   "metadata": {
    "collapsed": true
   },
   "outputs": [],
   "source": [
    "def get_tuple(iterable):\n",
    "    return tuple(sorted(iterable))\n",
    "\n",
    "def diff(s, e):\n",
    "    return get_tuple(set(s).difference([e]))\n",
    "\n",
    "def subsets(s):\n",
    "    res = []\n",
    "    for i in range(len(s)+1):\n",
    "        tmp = []\n",
    "        for e in combinations(s, i):\n",
    "            tmp += [list(e)]\n",
    "        res += sorted(tmp)\n",
    "        \n",
    "    return res\n",
    "\n",
    "def dict_max(d):\n",
    "    tmp = None\n",
    "    for k in d:\n",
    "        if tmp is None:\n",
    "            tmp = d[k]\n",
    "        else:\n",
    "            tmp = max(tmp, d[k])\n",
    "            \n",
    "    return tmp\n",
    "            \n",
    "def dict_argmax(d):\n",
    "    tmp = None\n",
    "    for k in d:\n",
    "        if tmp is None:\n",
    "            tmp = d[k]\n",
    "            arg = k\n",
    "        elif tmp < d[k]:\n",
    "            tmp = d[k]\n",
    "            arg = k\n",
    "            \n",
    "    return arg"
   ]
  },
  {
   "cell_type": "code",
   "execution_count": 3,
   "metadata": {
    "collapsed": false
   },
   "outputs": [],
   "source": [
    "class State:\n",
    "    def __init__(self, i, j, cows, n, m, walls, ϵ):\n",
    "        self.ϵ = ϵ\n",
    "        self.i = i\n",
    "        self.j = j\n",
    "        self.cows = cows\n",
    "        self.actions = []\n",
    "        self.q = {}\n",
    "        self.terminal = False\n",
    "        \n",
    "        if j < m-1 and (i, j, 'r') not in walls:\n",
    "            self.actions.append('r')\n",
    "        if j > 0 and (i, j, 'l') not in walls:\n",
    "            self.actions.append('l')\n",
    "        if i > 0 and (i, j, 'u') not in walls:\n",
    "            self.actions.append('u')\n",
    "        if i < n-1 and (i, j, 'd') not in walls:\n",
    "            self.actions.append('d')\n",
    "            \n",
    "        self.actions_num = len(self.actions)\n",
    "        \n",
    "        for a in self.actions:\n",
    "            self.q[a] = 0\n",
    "        \n",
    "    def __repr__(self):\n",
    "        return \"({i}, {j}, {c}), q: {q}, a: {a}\".format(i=self.i, j=self.j, q=self.q, a=self.actions, c=len(self.cows))\n",
    "        \n",
    "    def make_terminal(self):\n",
    "        self.terminal = True\n",
    "        self.actions = ['.']\n",
    "        self.actions_num = 1\n",
    "        self.q = {'.': 0}\n",
    "        \n",
    "    def get_action(self):\n",
    "        a = dict_argmax(self.q)\n",
    "        if self.actions_num == 1:\n",
    "            return a\n",
    "        p = np.ones(self.actions_num) * self.ϵ / (self.actions_num - 1)\n",
    "        items = list(self.q.items())\n",
    "        for i, (k, v) in enumerate(items):\n",
    "            if k == a:\n",
    "                p[i] = 1 - ϵ\n",
    "        return items[np.random.choice(np.arange(self.actions_num), p=p)][0]\n",
    "        \n",
    "    def next_state(self, action):        \n",
    "        i, j = self.i, self.j\n",
    "        \n",
    "        if action == 'r': j += 1\n",
    "        elif action == 'l': j -= 1\n",
    "        elif action == 'u': i -= 1\n",
    "        elif action == 'd': i += 1\n",
    "        \n",
    "        return i, j"
   ]
  },
  {
   "cell_type": "code",
   "execution_count": 4,
   "metadata": {
    "collapsed": true
   },
   "outputs": [],
   "source": [
    "def new_grid(cows, n, m, tx, ty, walls, ϵ):\n",
    "    grid = {}\n",
    "    comb = subsets(cows)\n",
    "    for i in range(n):\n",
    "        for j in range(m):\n",
    "            for c in comb:\n",
    "                if (i, j) in c:\n",
    "                    continue\n",
    "                grid[i, j, get_tuple(c)] = State(i, j, get_tuple(c), n, m, walls, ϵ)\n",
    "                if i == tx and j == ty:\n",
    "                    grid[i, j, get_tuple(c)].make_terminal()\n",
    "                    \n",
    "    return grid"
   ]
  },
  {
   "cell_type": "code",
   "execution_count": 5,
   "metadata": {
    "collapsed": true
   },
   "outputs": [],
   "source": [
    "def test_policy(grid, sx, sy, cows):\n",
    "    s = grid[sx, sy, get_tuple(cows)]\n",
    "    R = 0\n",
    "    while not s.terminal:\n",
    "        R -= 1\n",
    "        i, j = s.next_state(dict_argmax(s.q))\n",
    "        if (i, j) in cows:\n",
    "            s = grid[i, j, diff(s.cows, (i, j))]\n",
    "        else:\n",
    "            s = grid[i, j, s.cows]\n",
    "            \n",
    "    R += 100 * (len(cows) - len(s.cows))\n",
    "    \n",
    "    return R"
   ]
  },
  {
   "cell_type": "code",
   "execution_count": 6,
   "metadata": {
    "collapsed": true
   },
   "outputs": [],
   "source": [
    "ϵ = 0.1\n",
    "γ = 0.99\n",
    "α = 1"
   ]
  },
  {
   "cell_type": "code",
   "execution_count": 7,
   "metadata": {
    "collapsed": true
   },
   "outputs": [],
   "source": [
    "N, M = 4, 2\n",
    "walls = [(0,0,'r'),(0,1,'l'),(2,0,'r'),(2,1,'l'),(2,0,'d'),(3,0,'u')]\n",
    "cows = set([(0,0),(0,1),(2,0),(2,1),(3,0),(3,1)])\n",
    "sx, sy = 1, 0\n",
    "tx, ty = 2, 0"
   ]
  },
  {
   "cell_type": "code",
   "execution_count": 10,
   "metadata": {
    "collapsed": false
   },
   "outputs": [
    {
     "name": "stderr",
     "output_type": "stream",
     "text": [
      "100%|███████████████████████████████████| 20000/20000 [00:44<00:00, 451.41it/s]\n"
     ]
    }
   ],
   "source": [
    "grid = new_grid(cows, N, M, tx, ty, walls, ϵ)\n",
    "np.random.seed(0)\n",
    "\n",
    "reward = []\n",
    "it = 20000\n",
    "\n",
    "for k in tqdm(range(it)):\n",
    "    \n",
    "    s = grid[sx, sy, get_tuple(cows)]\n",
    "    \n",
    "    while not s.terminal:\n",
    "\n",
    "        a = s.get_action()\n",
    "        i, j = s.next_state(a)\n",
    "\n",
    "        if (i, j) in cows:\n",
    "            s_ = grid[i, j, diff(s.cows, (i, j))]\n",
    "        else:\n",
    "            s_ = grid[i, j, s.cows]\n",
    "\n",
    "        R = -1 if not s_.terminal else 100 * (len(cows) - len(s_.cows)) if s != s_ else 0\n",
    "\n",
    "        s.q[a] += α * (R + γ * dict_max(s_.q) - s.q[a])\n",
    "\n",
    "        s = s_\n",
    "    \n",
    "    if k >= 100:\n",
    "        reward += [test_policy(grid, sx, sy, cows)]"
   ]
  },
  {
   "cell_type": "code",
   "execution_count": 11,
   "metadata": {
    "collapsed": false
   },
   "outputs": [
    {
     "data": {
      "text/plain": [
       "[<matplotlib.lines.Line2D at 0x7a18b70>]"
      ]
     },
     "execution_count": 11,
     "metadata": {},
     "output_type": "execute_result"
    },
    {
     "data": {
      "image/png": "[encoded data removed]",
      "text/plain": [
       "<matplotlib.figure.Figure at 0x7732860>"
      ]
     },
     "metadata": {},
     "output_type": "display_data"
    }
   ],
   "source": [
    "plt.plot(range(it - 100), reward)"
   ]
  },
  {
   "cell_type": "code",
   "execution_count": 12,
   "metadata": {
    "collapsed": false
   },
   "outputs": [],
   "source": [
    "abstract_grid = grid"
   ]
  },
  {
   "cell_type": "code",
   "execution_count": 13,
   "metadata": {
    "collapsed": true
   },
   "outputs": [],
   "source": [
    "def room(i, j):\n",
    "    if j < 6:\n",
    "        if i < 4: x, y = 0, 0\n",
    "        elif i < 7: x, y = 1, 0\n",
    "        else: x, y = 2, 0\n",
    "    elif j < 12:\n",
    "        if i > 8: x, y = 2, 1\n",
    "        elif j < 9 and i > 3: x, y = 1, 1\n",
    "        else: x, y = 0, 1\n",
    "    elif i > 6: x, y = 3, 1\n",
    "    else: x, y = 3, 0\n",
    "    \n",
    "    return x, y"
   ]
  },
  {
   "cell_type": "code",
   "execution_count": 14,
   "metadata": {
    "collapsed": true
   },
   "outputs": [],
   "source": [
    "def Φ(s, abstract_grid):\n",
    "    x, y = room(s.i, s.j)\n",
    "    m = 0\n",
    "    \n",
    "    for k, v in abstract_grid.items():\n",
    "        if k[0] == x and k[1] == y:\n",
    "            m = max(m, dict_max(v.q))\n",
    "        \n",
    "    return m"
   ]
  },
  {
   "cell_type": "code",
   "execution_count": 15,
   "metadata": {
    "collapsed": false
   },
   "outputs": [],
   "source": [
    "N, M = 13, 18\n",
    "\n",
    "walls = [(i,5,'r') for i in range(N) if i != 5]; walls += [(i,6,'l') for i in range(N) if i != 5]\n",
    "walls += [(i,12,'r') for i in range(N) if i != 11]; walls += [(i,13,'l') for i in range(N) if i != 11]\n",
    "walls += [(i,8,'r') for i in range(4, 9) if i != 5]; walls += [(i,9,'l') for i in range(4, 9) if i != 5]\n",
    "walls += [(3,j,'d') for j in range(9) if j != 4]; walls += [(4,j,'u') for j in range(9) if j != 4]\n",
    "walls += [(6,j,'d') for j in range(6) if j != 1]; walls += [(7,j,'u') for j in range(6) if j != 1]\n",
    "walls += [(8,j,'d') for j in range(6, 13) if j != 7]; walls += [(9,j,'u') for j in range(6, 13) if j != 7]\n",
    "\n",
    "cows = set([(0,5),(2,7),(3,15),(8,3),(10,11),(12,17)])\n",
    "\n",
    "sx, sy = 5, 4\n",
    "tx, ty = 11, 1"
   ]
  },
  {
   "cell_type": "code",
   "execution_count": 16,
   "metadata": {
    "collapsed": true
   },
   "outputs": [],
   "source": [
    "grid = new_grid(cows, N, M, tx, ty, walls, ϵ)\n",
    "np.random.seed(0)\n",
    "it = 100"
   ]
  },
  {
   "cell_type": "code",
   "execution_count": 46,
   "metadata": {
    "collapsed": true
   },
   "outputs": [],
   "source": [
    "it = 1000"
   ]
  },
  {
   "cell_type": "code",
   "execution_count": 49,
   "metadata": {
    "collapsed": false
   },
   "outputs": [
    {
     "name": "stderr",
     "output_type": "stream",
     "text": [
      "100%|██████████████████████████████████████| 1000/1000 [01:16<00:00, 12.70it/s]\n"
     ]
    }
   ],
   "source": [
    "for k in tqdm(range(it)):\n",
    "    \n",
    "    s = grid[sx, sy, get_tuple(cows)]\n",
    "    \n",
    "    while not s.terminal:\n",
    "\n",
    "        a = s.get_action()\n",
    "        i, j = s.next_state(a)\n",
    "\n",
    "        if (i, j) in cows:\n",
    "            s_ = grid[i, j, diff(s.cows, (i, j))]\n",
    "        else:\n",
    "            s_ = grid[i, j, s.cows]\n",
    "\n",
    "        R = -1 if not s_.terminal else 100 * (len(cows) - len(s_.cows)) if s != s_ else 0\n",
    "                \n",
    "        s.q[a] += α * (R + γ * Φ(s_, abstract_grid) - Φ(s, abstract_grid) + γ * dict_max(s_.q) - s.q[a])\n",
    "\n",
    "        s = s_"
   ]
  },
  {
   "cell_type": "code",
   "execution_count": 53,
   "metadata": {
    "collapsed": false
   },
   "outputs": [
    {
     "data": {
      "text/plain": [
       "505"
      ]
     },
     "execution_count": 53,
     "metadata": {},
     "output_type": "execute_result"
    }
   ],
   "source": [
    "test_policy(grid, sx, sy, cows)"
   ]
  },
  {
   "cell_type": "code",
   "execution_count": null,
   "metadata": {
    "collapsed": true
   },
   "outputs": [],
   "source": []
  }
 ],
 "metadata": {
  "kernelspec": {
   "display_name": "Python 3",
   "language": "python",
   "name": "python3"
  },
  "language_info": {
   "codemirror_mode": {
    "name": "ipython",
    "version": 3
   },
   "file_extension": ".py",
   "mimetype": "text/x-python",
   "name": "python",
   "nbconvert_exporter": "python",
   "pygments_lexer": "ipython3",
   "version": "3.5.3"
  }
 },
 "nbformat": 4,
 "nbformat_minor": 0
}
