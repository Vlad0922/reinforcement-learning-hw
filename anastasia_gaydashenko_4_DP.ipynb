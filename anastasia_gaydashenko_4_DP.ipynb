{
 "cells": [
  {
   "cell_type": "code",
   "execution_count": 1,
   "metadata": {
    "collapsed": true
   },
   "outputs": [],
   "source": [
    "import numpy as np\n",
    "import matplotlib.pyplot as plt\n",
    "from itertools import combinations\n",
    "\n",
    "np.random.seed(0)\n",
    "\n",
    "%matplotlib inline"
   ]
  },
  {
   "cell_type": "code",
   "execution_count": 2,
   "metadata": {
    "collapsed": true
   },
   "outputs": [],
   "source": [
    "def get_tuple(iterable):\n",
    "    return tuple(sorted(iterable))"
   ]
  },
  {
   "cell_type": "code",
   "execution_count": 3,
   "metadata": {
    "collapsed": true
   },
   "outputs": [],
   "source": [
    "def diff(s, e):\n",
    "    return get_tuple(set(s).difference([e]))"
   ]
  },
  {
   "cell_type": "code",
   "execution_count": 4,
   "metadata": {
    "collapsed": true
   },
   "outputs": [],
   "source": [
    "def subsets(s):\n",
    "    res = []\n",
    "    for i in range(len(s)+1):\n",
    "        tmp = []\n",
    "        for e in combinations(s, i):\n",
    "            tmp += [list(e)]\n",
    "        res += sorted(tmp)\n",
    "        \n",
    "    return res"
   ]
  },
  {
   "cell_type": "code",
   "execution_count": 5,
   "metadata": {
    "collapsed": true
   },
   "outputs": [],
   "source": [
    "ϵ = 0.1\n",
    "α = 1\n",
    "γ = 1\n",
    "θ = 0.02"
   ]
  },
  {
   "cell_type": "code",
   "execution_count": 6,
   "metadata": {
    "collapsed": true
   },
   "outputs": [],
   "source": [
    "N = 10\n",
    "M = 10"
   ]
  },
  {
   "cell_type": "code",
   "execution_count": 7,
   "metadata": {
    "collapsed": true
   },
   "outputs": [],
   "source": [
    "cows = set([(0,0),(0,M-1)])"
   ]
  },
  {
   "cell_type": "code",
   "execution_count": 8,
   "metadata": {
    "collapsed": true
   },
   "outputs": [],
   "source": [
    "class State:\n",
    "    def __init__(self, i, j, cows, n=N, m=M):\n",
    "        self.i = i\n",
    "        self.j = j\n",
    "        self.cows = cows\n",
    "        self.actions = []\n",
    "        self.value = 0\n",
    "        self.terminal = False\n",
    "        \n",
    "        if j < m-1:\n",
    "            self.actions.append('r')\n",
    "        if j > 0:\n",
    "            self.actions.append('l')\n",
    "        if i > 0:\n",
    "            self.actions.append('u')\n",
    "        if i < n-1:\n",
    "            self.actions.append('d')\n",
    "            \n",
    "        self.policy = self.actions[0]\n",
    "        \n",
    "    def __repr__(self):\n",
    "        return \"({i}, {j}, {c}), v: {v}, p: {p}\".format(i=self.i, j=self.j, v=self.value, a=self.actions, p=self.policy,\n",
    "                                                          c=len(self.cows))\n",
    "        \n",
    "    def make_terminal(self):\n",
    "        self.terminal = True\n",
    "        self.actions = ['.']\n",
    "        self.policy = '.'\n",
    "        self.value = 0\n",
    "        \n",
    "    def next_state(self, action):        \n",
    "        i, j = self.i, self.j\n",
    "        \n",
    "        if action == 'r': j += 1\n",
    "        elif action == 'l': j -= 1\n",
    "        elif action == 'u': i -= 1\n",
    "        elif action == 'd': i += 1\n",
    "        \n",
    "        return i, j"
   ]
  },
  {
   "cell_type": "code",
   "execution_count": 9,
   "metadata": {
    "collapsed": false
   },
   "outputs": [],
   "source": [
    "def new_grid():\n",
    "    grid = {}\n",
    "    comb = subsets(cows)\n",
    "    for i in range(N):\n",
    "        for j in range(M):\n",
    "            for c in comb:\n",
    "                if (i, j) in c:\n",
    "                    continue\n",
    "                grid[i, j, get_tuple(c)] = State(i, j, get_tuple(c))\n",
    "        \n",
    "    grid[N-1, 0, ()].make_terminal()\n",
    "    return grid"
   ]
  },
  {
   "cell_type": "code",
   "execution_count": 10,
   "metadata": {
    "collapsed": true
   },
   "outputs": [],
   "source": [
    "def test_policy(grid):\n",
    "    s = grid[N-1, 0, get_tuple(cows)]\n",
    "    R = 0\n",
    "    while not s.terminal:\n",
    "        R -= 2\n",
    "        i, j = s.next_state(s.policy)\n",
    "        if (i, j) in cows:\n",
    "            s = grid[i, j, diff(s.cows, (i, j))]\n",
    "        else:\n",
    "            s = grid[i, j, s.cows]\n",
    "            \n",
    "    R += 102\n",
    "    \n",
    "    return R"
   ]
  },
  {
   "cell_type": "code",
   "execution_count": 11,
   "metadata": {
    "collapsed": false
   },
   "outputs": [],
   "source": [
    "grid = new_grid()\n",
    "\n",
    "it = 0\n",
    "\n",
    "while True:\n",
    "    \n",
    "    it += 1\n",
    "    Δ = 0\n",
    "\n",
    "    for k in grid:\n",
    "        s = grid[k]\n",
    "        val = s.value\n",
    "        for a in s.actions:\n",
    "            i, j = s.next_state(a)\n",
    "\n",
    "            if (i, j) in cows:\n",
    "                s_ = grid[i, j, diff(s.cows, (i, j))]\n",
    "            else:\n",
    "                s_ = grid[i, j, s.cows]\n",
    "\n",
    "\n",
    "            R = -2 if not s_.terminal else 100 if s != s_ else 0\n",
    "            \n",
    "            tmp = R + γ * s_.value\n",
    "\n",
    "            if tmp > s.value:\n",
    "                s.value = tmp\n",
    "                s.policy = a\n",
    "\n",
    "            Δ = max(Δ, np.abs(val - s.value))\n",
    "\n",
    "    if Δ < θ:\n",
    "        break"
   ]
  },
  {
   "cell_type": "code",
   "execution_count": 12,
   "metadata": {
    "collapsed": false
   },
   "outputs": [
    {
     "data": {
      "text/plain": [
       "15"
      ]
     },
     "execution_count": 12,
     "metadata": {},
     "output_type": "execute_result"
    }
   ],
   "source": [
    "it"
   ]
  },
  {
   "cell_type": "code",
   "execution_count": 13,
   "metadata": {
    "collapsed": false
   },
   "outputs": [
    {
     "data": {
      "text/plain": [
       "30"
      ]
     },
     "execution_count": 13,
     "metadata": {},
     "output_type": "execute_result"
    }
   ],
   "source": [
    "test_policy(grid)"
   ]
  },
  {
   "cell_type": "code",
   "execution_count": null,
   "metadata": {
    "collapsed": true
   },
   "outputs": [],
   "source": []
  }
 ],
 "metadata": {
  "kernelspec": {
   "display_name": "Python 3",
   "language": "python",
   "name": "python3"
  },
  "language_info": {
   "codemirror_mode": {
    "name": "ipython",
    "version": 3
   },
   "file_extension": ".py",
   "mimetype": "text/x-python",
   "name": "python",
   "nbconvert_exporter": "python",
   "pygments_lexer": "ipython3",
   "version": "3.5.3"
  }
 },
 "nbformat": 4,
 "nbformat_minor": 0
}
