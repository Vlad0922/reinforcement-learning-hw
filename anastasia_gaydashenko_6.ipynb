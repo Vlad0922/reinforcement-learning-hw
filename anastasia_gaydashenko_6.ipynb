{
 "cells": [
  {
   "cell_type": "code",
   "execution_count": 1,
   "metadata": {
    "collapsed": false
   },
   "outputs": [],
   "source": [
    "import gym\n",
    "import numpy as np\n",
    "from tqdm import tqdm\n",
    "import matplotlib.pyplot as plt\n",
    "\n",
    "%matplotlib inline\n",
    "\n",
    "np.random.seed(0)"
   ]
  },
  {
   "cell_type": "code",
   "execution_count": 2,
   "metadata": {
    "collapsed": false
   },
   "outputs": [
    {
     "name": "stderr",
     "output_type": "stream",
     "text": [
      "[2017-05-30 10:10:42,833] Making new env: MountainCar-v0\n"
     ]
    }
   ],
   "source": [
    "env = gym.make('MountainCar-v0')"
   ]
  },
  {
   "cell_type": "code",
   "execution_count": 3,
   "metadata": {
    "collapsed": true
   },
   "outputs": [],
   "source": [
    "α = 0.5\n",
    "γ = 0.99"
   ]
  },
  {
   "cell_type": "code",
   "execution_count": 4,
   "metadata": {
    "collapsed": false
   },
   "outputs": [],
   "source": [
    "position_min, velocity_min = env.observation_space.low\n",
    "position_max, velocity_max = env.observation_space.high\n",
    "\n",
    "position_offset = (position_max - position_min) / 10\n",
    "velocity_offset = (velocity_max - velocity_min) / 10"
   ]
  },
  {
   "cell_type": "code",
   "execution_count": 5,
   "metadata": {
    "collapsed": false
   },
   "outputs": [],
   "source": [
    "actions_num = env.action_space.n\n",
    "steps_num = env.spec.timestep_limit"
   ]
  },
  {
   "cell_type": "code",
   "execution_count": 6,
   "metadata": {
    "collapsed": true
   },
   "outputs": [],
   "source": [
    "tilings_num = 10\n",
    "tiles_num = 10"
   ]
  },
  {
   "cell_type": "code",
   "execution_count": 7,
   "metadata": {
    "collapsed": true
   },
   "outputs": [],
   "source": [
    "features_num = tilings_num * tiles_num**2"
   ]
  },
  {
   "cell_type": "code",
   "execution_count": 8,
   "metadata": {
    "collapsed": false
   },
   "outputs": [],
   "source": [
    "position_tiling = np.zeros((tilings_num, tiles_num+1))\n",
    "velocity_tiling = np.zeros((tilings_num, tiles_num+1))\n",
    "\n",
    "for i in range(tilings_num):\n",
    "    position_tiling[i] = np.linspace(position_min - position_offset * (1 - i / (tilings_num - 1)),\n",
    "                                     position_max + position_offset * i / (tilings_num - 1), tiles_num+1)\n",
    "    velocity_tiling[i] = np.linspace(velocity_min - velocity_offset * (1 - i / (tilings_num - 1)),\n",
    "                                     velocity_max + velocity_offset * i / (tilings_num - 1), tiles_num+1)"
   ]
  },
  {
   "cell_type": "code",
   "execution_count": 9,
   "metadata": {
    "collapsed": true
   },
   "outputs": [],
   "source": [
    "def get_features(position, velocity):\n",
    "    return np.argmin(position_tiling < position, axis=1) * tiles_num + np.argmin(velocity_tiling < velocity, axis=1) \\\n",
    "            + np.arange(tilings_num)*100"
   ]
  },
  {
   "cell_type": "code",
   "execution_count": 10,
   "metadata": {
    "collapsed": true
   },
   "outputs": [],
   "source": [
    "Q = np.zeros((tilings_num * tiles_num**2, actions_num))"
   ]
  },
  {
   "cell_type": "code",
   "execution_count": 11,
   "metadata": {
    "collapsed": true
   },
   "outputs": [],
   "source": [
    "def next_action(position, velocity):\n",
    "    return np.argmax(Q[get_features(position, velocity)].sum(axis=0))"
   ]
  },
  {
   "cell_type": "code",
   "execution_count": 12,
   "metadata": {
    "collapsed": false
   },
   "outputs": [
    {
     "name": "stderr",
     "output_type": "stream",
     "text": [
      "100%|████████████████████████████████████████| 500/500 [00:37<00:00, 17.39it/s]\n"
     ]
    }
   ],
   "source": [
    "epochs = 500\n",
    "\n",
    "for _ in tqdm(range(epochs)):\n",
    "    \n",
    "    s = env.reset()\n",
    "    \n",
    "    for _ in range(steps_num):\n",
    "        a = next_action(*s)\n",
    "        s_, r, terminal, _ = env.step(a)\n",
    "        \n",
    "        t = get_features(*s)\n",
    "        \n",
    "        Q[t, a] += α * (r + γ * np.max(Q[get_features(*s_)].sum(axis=0)) - Q[t, a].sum()) / tilings_num\n",
    "            \n",
    "        s = s_\n",
    "        \n",
    "        if terminal:\n",
    "            break\n",
    "            "
   ]
  },
  {
   "cell_type": "code",
   "execution_count": 18,
   "metadata": {
    "collapsed": false
   },
   "outputs": [
    {
     "name": "stdout",
     "output_type": "stream",
     "text": [
      "-108.0\n"
     ]
    }
   ],
   "source": [
    "s = env.reset()\n",
    "R = 0\n",
    "\n",
    "while True:\n",
    "    env.render()\n",
    "    s, r, terminal, _ = env.step(next_action(*s))\n",
    "    R += r\n",
    "    if terminal:\n",
    "        print(R)\n",
    "        break"
   ]
  },
  {
   "cell_type": "code",
   "execution_count": null,
   "metadata": {
    "collapsed": true
   },
   "outputs": [],
   "source": []
  }
 ],
 "metadata": {
  "kernelspec": {
   "display_name": "Python 3",
   "language": "python",
   "name": "python3"
  },
  "language_info": {
   "codemirror_mode": {
    "name": "ipython",
    "version": 3
   },
   "file_extension": ".py",
   "mimetype": "text/x-python",
   "name": "python",
   "nbconvert_exporter": "python",
   "pygments_lexer": "ipython3",
   "version": "3.5.3"
  }
 },
 "nbformat": 4,
 "nbformat_minor": 0
}
