{
 "cells": [
  {
   "cell_type": "code",
   "execution_count": 1,
   "metadata": {
    "collapsed": false
   },
   "outputs": [],
   "source": [
    "import numpy as np"
   ]
  },
  {
   "cell_type": "code",
   "execution_count": 2,
   "metadata": {
    "collapsed": true
   },
   "outputs": [],
   "source": [
    "class Cell:\n",
    "    def __init__(self, i=None, j=None):\n",
    "        self.value = 0\n",
    "        self.actions = {}\n",
    "        self.policy = None\n",
    "        self.i = i\n",
    "        self.j = j\n",
    "        \n",
    "    def __repr__(self):\n",
    "        return \"location: ({i},{j}), value: {v}, policy: {p}, actions: {a}\".format(i=self.i, j = self.j, v=self.value,\n",
    "                                                                                  p=self.policy, a=self.actions)\n",
    "        \n",
    "    def set_actions(self, actions): # actions = {'r' (action):}\n",
    "        self.actions = actions\n",
    "        self.policy = list(actions.keys())[0]\n",
    "        \n",
    "    def next_state(self, action):\n",
    "        i, j = self.i, self.j\n",
    "        \n",
    "        if action == 'r': return i, j+1\n",
    "        elif action == 'l': return i, j-1\n",
    "        elif action == 'u': return i-1, j\n",
    "        elif action == 'd': return i+1, j\n",
    "        \n",
    "        return i, j"
   ]
  },
  {
   "cell_type": "code",
   "execution_count": 3,
   "metadata": {
    "collapsed": true
   },
   "outputs": [],
   "source": [
    "def new_grid(n=10, m=10):\n",
    "    grid = np.array([[Cell(i,j) for j in range(m)] for i in range(n)])\n",
    "    \n",
    "    for row in grid[1:-1, 1:-1]:\n",
    "        for x in row:\n",
    "            x.set_actions({'r': 0, 'l': 0, 'd': 0, 'u': 0})\n",
    "\n",
    "    for x in grid[1:-1, 0]:\n",
    "        x.set_actions({'r': 0, 'd': 0, 'u': 0})\n",
    "\n",
    "    for x in grid[1:-1, -1]:\n",
    "        x.set_actions({'l': 0, 'd': 0, 'u': 0})\n",
    "\n",
    "    for x in grid[0, 1:-1]:\n",
    "        x.set_actions({'r': 0, 'd': 0, 'l': 0})\n",
    "\n",
    "    for x in grid[-1, 1:-1]:\n",
    "        x.set_actions({'r': 0, 'u': 0, 'l': 0})\n",
    "\n",
    "    grid[0, 0].set_actions({'r': 0, 'd': 0})\n",
    "    grid[-1, 0].set_actions({'r': 0, 'u': 0})\n",
    "    grid[-1, -1].set_actions({'l': 0, 'u': 0})\n",
    "    grid[0, -1].set_actions({'.': 0}) # stay in that cell\n",
    "\n",
    "    grid[0, -2].actions['r'] = 100\n",
    "    grid[1, -1].actions['u'] = 100\n",
    "    \n",
    "    return grid"
   ]
  },
  {
   "cell_type": "code",
   "execution_count": 11,
   "metadata": {
    "collapsed": true
   },
   "outputs": [],
   "source": [
    "θ = 1\n",
    "γ = 0.8"
   ]
  },
  {
   "cell_type": "code",
   "execution_count": 12,
   "metadata": {
    "collapsed": false
   },
   "outputs": [
    {
     "data": {
      "text/plain": [
       "18"
      ]
     },
     "execution_count": 12,
     "metadata": {},
     "output_type": "execute_result"
    }
   ],
   "source": [
    "grid = new_grid()\n",
    "\n",
    "it = 0\n",
    "\n",
    "while True:\n",
    "    \n",
    "    it += 1\n",
    "\n",
    "    while True:\n",
    "        Δ = 0\n",
    "\n",
    "        for row in grid:\n",
    "            for x in row:\n",
    "                tmp = x.value\n",
    "                a = x.policy\n",
    "                x.value = x.actions[a] + γ * grid[x.next_state(a)].value\n",
    "                Δ = max(Δ, np.abs(tmp - x.value))\n",
    "\n",
    "        if Δ < θ:\n",
    "            break\n",
    "\n",
    "    policy_stable = True\n",
    "\n",
    "    for row in grid:\n",
    "        for x in row:\n",
    "            val = -1e10\n",
    "            for a in x.actions:\n",
    "                tmp = x.actions[a] + γ * grid[x.next_state(a)].value\n",
    "                if tmp > val:\n",
    "                    val = tmp\n",
    "                    pol = a\n",
    "            if x.policy != pol:\n",
    "                x.policy = pol\n",
    "                policy_stable = False\n",
    "\n",
    "    if policy_stable:\n",
    "        break\n",
    "\n",
    "it"
   ]
  },
  {
   "cell_type": "code",
   "execution_count": 13,
   "metadata": {
    "collapsed": false
   },
   "outputs": [
    {
     "data": {
      "text/plain": [
       "array([ location: (0,0), value: 16.777216000000006, policy: r, actions: {'d': 0, 'r': 0},\n",
       "       location: (0,1), value: 20.97152000000001, policy: r, actions: {'l': 0, 'd': 0, 'r': 0},\n",
       "       location: (0,2), value: 26.21440000000001, policy: r, actions: {'l': 0, 'd': 0, 'r': 0},\n",
       "       location: (0,3), value: 32.76800000000001, policy: r, actions: {'l': 0, 'd': 0, 'r': 0},\n",
       "       location: (0,4), value: 40.96000000000001, policy: r, actions: {'l': 0, 'd': 0, 'r': 0},\n",
       "       location: (0,5), value: 51.2, policy: r, actions: {'l': 0, 'd': 0, 'r': 0},\n",
       "       location: (0,6), value: 64.0, policy: r, actions: {'l': 0, 'd': 0, 'r': 0},\n",
       "       location: (0,7), value: 80.0, policy: r, actions: {'l': 0, 'd': 0, 'r': 0},\n",
       "       location: (0,8), value: 100.0, policy: r, actions: {'l': 0, 'd': 0, 'r': 100},\n",
       "       location: (0,9), value: 0.0, policy: ., actions: {'.': 0}], dtype=object)"
      ]
     },
     "execution_count": 13,
     "metadata": {},
     "output_type": "execute_result"
    }
   ],
   "source": [
    "grid[0]"
   ]
  },
  {
   "cell_type": "code",
   "execution_count": 9,
   "metadata": {
    "collapsed": false
   },
   "outputs": [
    {
     "data": {
      "text/plain": [
       "10"
      ]
     },
     "execution_count": 9,
     "metadata": {},
     "output_type": "execute_result"
    }
   ],
   "source": [
    "grid = new_grid()\n",
    "\n",
    "it = 0\n",
    "\n",
    "while True:\n",
    "    \n",
    "    it += 1\n",
    "    Δ = 0\n",
    "\n",
    "    for row in grid:\n",
    "        for x in row:\n",
    "            val = x.value\n",
    "            for a in x.actions:\n",
    "                tmp = x.actions[a] + γ * grid[x.next_state(a)].value\n",
    "                if tmp > x.value:\n",
    "                    x.value = tmp\n",
    "                    x.policy = a\n",
    "\n",
    "            Δ = max(Δ, np.abs(val - x.value))\n",
    "    if Δ < θ:\n",
    "        break\n",
    "\n",
    "iter"
   ]
  },
  {
   "cell_type": "code",
   "execution_count": 10,
   "metadata": {
    "collapsed": false
   },
   "outputs": [
    {
     "data": {
      "text/plain": [
       "array([ location: (0,0), value: 16.777216000000006, policy: r, actions: {'d': 0, 'r': 0},\n",
       "       location: (0,1), value: 20.97152000000001, policy: r, actions: {'l': 0, 'd': 0, 'r': 0},\n",
       "       location: (0,2), value: 26.21440000000001, policy: r, actions: {'l': 0, 'd': 0, 'r': 0},\n",
       "       location: (0,3), value: 32.76800000000001, policy: r, actions: {'l': 0, 'd': 0, 'r': 0},\n",
       "       location: (0,4), value: 40.96000000000001, policy: r, actions: {'l': 0, 'd': 0, 'r': 0},\n",
       "       location: (0,5), value: 51.2, policy: r, actions: {'l': 0, 'd': 0, 'r': 0},\n",
       "       location: (0,6), value: 64.0, policy: r, actions: {'l': 0, 'd': 0, 'r': 0},\n",
       "       location: (0,7), value: 80.0, policy: r, actions: {'l': 0, 'd': 0, 'r': 0},\n",
       "       location: (0,8), value: 100.0, policy: r, actions: {'l': 0, 'd': 0, 'r': 100},\n",
       "       location: (0,9), value: 0, policy: ., actions: {'.': 0}], dtype=object)"
      ]
     },
     "execution_count": 10,
     "metadata": {},
     "output_type": "execute_result"
    }
   ],
   "source": [
    "grid[0]"
   ]
  },
  {
   "cell_type": "code",
   "execution_count": null,
   "metadata": {
    "collapsed": true
   },
   "outputs": [],
   "source": []
  }
 ],
 "metadata": {
  "kernelspec": {
   "display_name": "Python 3",
   "language": "python",
   "name": "python3"
  },
  "language_info": {
   "codemirror_mode": {
    "name": "ipython",
    "version": 3
   },
   "file_extension": ".py",
   "mimetype": "text/x-python",
   "name": "python",
   "nbconvert_exporter": "python",
   "pygments_lexer": "ipython3",
   "version": "3.5.3"
  }
 },
 "nbformat": 4,
 "nbformat_minor": 0
}
