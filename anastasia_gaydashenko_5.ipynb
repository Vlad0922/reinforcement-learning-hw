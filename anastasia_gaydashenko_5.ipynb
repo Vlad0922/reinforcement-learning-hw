{
 "cells": [
  {
   "cell_type": "code",
   "execution_count": 1,
   "metadata": {
    "collapsed": true
   },
   "outputs": [],
   "source": [
    "import numpy as np\n",
    "import matplotlib.pyplot as plt\n",
    "from itertools import combinations\n",
    "from queue import PriorityQueue\n",
    "\n",
    "np.random.seed(0)\n",
    "\n",
    "%matplotlib inline"
   ]
  },
  {
   "cell_type": "code",
   "execution_count": 2,
   "metadata": {
    "collapsed": true
   },
   "outputs": [],
   "source": [
    "def get_tuple(iterable):\n",
    "    return tuple(sorted(iterable))\n",
    "\n",
    "def diff(s, e):\n",
    "    return get_tuple(set(s).difference([e]))\n",
    "\n",
    "def subsets(s):\n",
    "    res = []\n",
    "    for i in range(len(s)+1):\n",
    "        tmp = []\n",
    "        for e in combinations(s, i):\n",
    "            tmp += [list(e)]\n",
    "        res += sorted(tmp)\n",
    "        \n",
    "    return res"
   ]
  },
  {
   "cell_type": "code",
   "execution_count": 3,
   "metadata": {
    "collapsed": true
   },
   "outputs": [],
   "source": [
    "def dict_max(d):\n",
    "    tmp = None\n",
    "    for k in d:\n",
    "        if tmp is None:\n",
    "            tmp = d[k]\n",
    "        else:\n",
    "            tmp = max(tmp, d[k])\n",
    "            \n",
    "    return tmp\n",
    "            \n",
    "def dict_argmax(d):\n",
    "    tmp = None\n",
    "    for k in d:\n",
    "        if tmp is None:\n",
    "            tmp = d[k]\n",
    "            arg = k\n",
    "        elif tmp < d[k]:\n",
    "            tmp = d[k]\n",
    "            arg = k\n",
    "            \n",
    "    return arg"
   ]
  },
  {
   "cell_type": "code",
   "execution_count": 4,
   "metadata": {
    "collapsed": true
   },
   "outputs": [],
   "source": [
    "ϵ = 0.1\n",
    "γ = 1\n",
    "θ = 0.02\n",
    "κ = 0.01"
   ]
  },
  {
   "cell_type": "code",
   "execution_count": 5,
   "metadata": {
    "collapsed": true
   },
   "outputs": [],
   "source": [
    "N = 10\n",
    "M = 10"
   ]
  },
  {
   "cell_type": "code",
   "execution_count": 6,
   "metadata": {
    "collapsed": true
   },
   "outputs": [],
   "source": [
    "cows = set([(0,0),(0,M-1)])"
   ]
  },
  {
   "cell_type": "code",
   "execution_count": 7,
   "metadata": {
    "collapsed": true
   },
   "outputs": [],
   "source": [
    "class State:\n",
    "    def __init__(self, i, j, cows, n=N, m=M):\n",
    "        self.i = i\n",
    "        self.j = j\n",
    "        self.cows = cows\n",
    "        self.actions = []\n",
    "        self.model = {}\n",
    "        self.q = {}\n",
    "        self.terminal = False\n",
    "        \n",
    "        if j < m-1:\n",
    "            self.actions.append('r')\n",
    "            self.model['r'] = (-2, (i, j+1, cows))\n",
    "        if j > 0:\n",
    "            self.actions.append('l')\n",
    "            self.model['l'] = (-2, (i, j-1, cows))\n",
    "        if i > 0:\n",
    "            self.actions.append('u')\n",
    "            self.model['u'] = (-2, (i-1, j, cows))\n",
    "        if i < n-1:\n",
    "            self.actions.append('d')\n",
    "            self.model['d'] = (-2, (i+1, j, cows))\n",
    "            \n",
    "        self.actions_num = len(self.actions)\n",
    "        \n",
    "        for a in self.actions:\n",
    "            self.q[a] = 0\n",
    "        \n",
    "        self.taken_actions = []\n",
    "        \n",
    "    def __repr__(self):\n",
    "        return \"({i}, {j}, {c}), q: {q}, a: {a}\".format(i=self.i, j=self.j, q=self.q, a=self.actions, c=len(self.cows))\n",
    "        \n",
    "    def make_terminal(self):\n",
    "        self.terminal = True\n",
    "        self.actions = ['.']\n",
    "        self.q = {'.': 0}\n",
    "        self.model = {'.': (0, (self.i, self.j, self.cows))}\n",
    "        \n",
    "    def get_action(self):\n",
    "        a = dict_argmax(self.q)\n",
    "        p = np.ones(self.actions_num) * ϵ / (self.actions_num - 1)\n",
    "        items = list(self.q.items())\n",
    "        for i, (k, v) in enumerate(items):\n",
    "            if k == a:\n",
    "                p[i] = 1 - ϵ\n",
    "        return items[np.random.choice(np.arange(self.actions_num), p=p)][0]\n",
    "        \n",
    "    def next_state(self, action):        \n",
    "        i, j = self.i, self.j\n",
    "        \n",
    "        if action == 'r': j += 1\n",
    "        elif action == 'l': j -= 1\n",
    "        elif action == 'u': i -= 1\n",
    "        elif action == 'd': i += 1\n",
    "        \n",
    "        return i, j\n",
    "    \n",
    "    def __lt__(self, other):\n",
    "        return False"
   ]
  },
  {
   "cell_type": "code",
   "execution_count": 8,
   "metadata": {
    "collapsed": true
   },
   "outputs": [],
   "source": [
    "def new_grid():\n",
    "    grid = {}\n",
    "    comb = subsets(cows)\n",
    "    for i in range(N):\n",
    "        for j in range(M):\n",
    "            for c in comb:\n",
    "                if (i, j) in c:\n",
    "                    continue\n",
    "                grid[i, j, get_tuple(c)] = State(i, j, get_tuple(c))\n",
    "        \n",
    "    grid[N-1, 0, ()].make_terminal()\n",
    "    return grid"
   ]
  },
  {
   "cell_type": "code",
   "execution_count": 9,
   "metadata": {
    "collapsed": true
   },
   "outputs": [],
   "source": [
    "def test_policy(grid):\n",
    "    s = grid[N-1, 0, get_tuple(cows)]\n",
    "    R = 0\n",
    "    while not s.terminal:\n",
    "        R -= 2\n",
    "        i, j = s.next_state(dict_argmax(s.q))\n",
    "        if (i, j) in cows:\n",
    "            s = grid[i, j, diff(s.cows, (i, j))]\n",
    "        else:\n",
    "            s = grid[i, j, s.cows]\n",
    "            \n",
    "    R += 102\n",
    "    \n",
    "    return R"
   ]
  },
  {
   "cell_type": "code",
   "execution_count": 10,
   "metadata": {
    "collapsed": false
   },
   "outputs": [],
   "source": [
    "grid = new_grid()\n",
    "keys = list(grid.keys())\n",
    "\n",
    "n = 20\n",
    "it = 0\n",
    "\n",
    "observed_states = []\n",
    "\n",
    "while True:\n",
    "    \n",
    "    it += 1\n",
    "    \n",
    "    while True:\n",
    "        ind = np.random.choice(np.arange(len(keys)))\n",
    "        s = grid[keys[ind]]\n",
    "        if not s.terminal:\n",
    "            break\n",
    "            \n",
    "    if s not in observed_states:\n",
    "        observed_states.append(s)\n",
    "    \n",
    "    a = s.get_action()\n",
    "    i, j = s.next_state(a)\n",
    "    \n",
    "    if a not in s.taken_actions:\n",
    "        s.taken_actions.append(a)\n",
    "\n",
    "    if (i, j) in cows:\n",
    "        s_ = grid[i, j, diff(s.cows, (i, j))]\n",
    "    else:\n",
    "        s_ = grid[i, j, s.cows]\n",
    "        \n",
    "    R = -2 if not s_.terminal else 100 if s != s_ else 0\n",
    "    \n",
    "    s.q[a] = R + γ * dict_max(s_.q)\n",
    "    \n",
    "    s.model[a] = (R, (s_.i, s_.j, s_.cows))\n",
    "    \n",
    "    for _ in range(n):\n",
    "        ind = np.random.choice(np.arange(len(observed_states)))\n",
    "        s = observed_states[ind]\n",
    "        \n",
    "        ind = np.random.choice(np.arange(len(s.taken_actions)))\n",
    "        a = s.taken_actions[ind]\n",
    "        \n",
    "        R, (i, j, c) = s.model[a]\n",
    "        s_ = grid[i, j, c]\n",
    "        \n",
    "        s.q[a] = R + γ * dict_max(s_.q)\n",
    "\n",
    "    if it > 3000:\n",
    "        break"
   ]
  },
  {
   "cell_type": "code",
   "execution_count": 11,
   "metadata": {
    "collapsed": false
   },
   "outputs": [
    {
     "data": {
      "text/plain": [
       "26"
      ]
     },
     "execution_count": 11,
     "metadata": {},
     "output_type": "execute_result"
    }
   ],
   "source": [
    "test_policy(grid)"
   ]
  },
  {
   "cell_type": "code",
   "execution_count": 12,
   "metadata": {
    "collapsed": true
   },
   "outputs": [],
   "source": [
    "def get_predecessors(grid, s):\n",
    "    res = []\n",
    "    for k in grid:\n",
    "        model = grid[k].model\n",
    "        for a in model:\n",
    "            R, (i, j, c) = model[a]\n",
    "            if s.i == i and s.j == j and s.cows == c:\n",
    "                res.append((grid[k], a, R))\n",
    "                \n",
    "    return res"
   ]
  },
  {
   "cell_type": "code",
   "execution_count": 13,
   "metadata": {
    "collapsed": false
   },
   "outputs": [],
   "source": [
    "grid = new_grid()\n",
    "keys = list(grid.keys())\n",
    "pqueue = PriorityQueue()\n",
    "\n",
    "it = 0\n",
    "\n",
    "while True:\n",
    "    \n",
    "    it += 1\n",
    "    \n",
    "    while True:\n",
    "        ind = np.random.choice(np.arange(len(keys)))\n",
    "        s = grid[keys[ind]]\n",
    "        if not s.terminal:\n",
    "            break\n",
    "    \n",
    "    a = dict_argmax(s.q)\n",
    "    i, j = s.next_state(a)\n",
    "    \n",
    "    if (i, j) in cows:\n",
    "        s_ = grid[i, j, diff(s.cows, (i, j))]\n",
    "    else:\n",
    "        s_ = grid[i, j, s.cows]\n",
    "        \n",
    "    R = -2 if not s_.terminal else 100 if s != s_ else 0\n",
    "    \n",
    "    s.model[a] = (R, (s_.i, s_.j, s_.cows))\n",
    "    \n",
    "    P = abs(R + γ * dict_max(s_.q) - s.q[a])\n",
    "    \n",
    "    if P > θ:\n",
    "        pqueue.put((-P, (s, a)))\n",
    "    \n",
    "    for _ in range(n):\n",
    "        if pqueue.empty():\n",
    "            break\n",
    "            \n",
    "        _, (s, a) = pqueue.get()\n",
    "            \n",
    "        R, (i, j, c) = s.model[a]\n",
    "        s_ = grid[i, j, c]\n",
    "        \n",
    "        s.q[a] = R + γ * dict_max(s_.q)\n",
    "        \n",
    "        for s_, a_, R_ in get_predecessors(grid, s):\n",
    "            P = abs(R_ + γ * dict_max(s.q) - s_.q[a_])\n",
    "            if P > θ:\n",
    "                pqueue.put((-P, (s_, a_)))\n",
    "        \n",
    "    if it > 1500:\n",
    "        break"
   ]
  },
  {
   "cell_type": "code",
   "execution_count": 14,
   "metadata": {
    "collapsed": false
   },
   "outputs": [
    {
     "data": {
      "text/plain": [
       "26"
      ]
     },
     "execution_count": 14,
     "metadata": {},
     "output_type": "execute_result"
    }
   ],
   "source": [
    "test_policy(grid)"
   ]
  },
  {
   "cell_type": "code",
   "execution_count": null,
   "metadata": {
    "collapsed": true
   },
   "outputs": [],
   "source": []
  }
 ],
 "metadata": {
  "kernelspec": {
   "display_name": "Python 3",
   "language": "python",
   "name": "python3"
  },
  "language_info": {
   "codemirror_mode": {
    "name": "ipython",
    "version": 3
   },
   "file_extension": ".py",
   "mimetype": "text/x-python",
   "name": "python",
   "nbconvert_exporter": "python",
   "pygments_lexer": "ipython3",
   "version": "3.5.3"
  }
 },
 "nbformat": 4,
 "nbformat_minor": 0
}
