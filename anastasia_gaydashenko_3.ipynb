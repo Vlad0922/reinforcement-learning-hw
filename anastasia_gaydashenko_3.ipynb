{
 "cells": [
  {
   "cell_type": "code",
   "execution_count": 12,
   "metadata": {
    "collapsed": true
   },
   "outputs": [],
   "source": [
    "import numpy as np\n",
    "import matplotlib.pyplot as plt\n",
    "\n",
    "np.random.seed(0)\n",
    "\n",
    "%matplotlib inline"
   ]
  },
  {
   "cell_type": "code",
   "execution_count": 13,
   "metadata": {
    "collapsed": true
   },
   "outputs": [],
   "source": [
    "ranks = np.array(['A', '2', '3', '4', '5', '6', '7', '8', '9', 'T', 'J', 'Q', 'K'])\n",
    "values = {'A':1, '2':2, '3':3, '4':4, '5':5, '6':6, '7':7, '8':8, '9':9, 'T':10, 'J':10, 'Q':10, 'K':10}"
   ]
  },
  {
   "cell_type": "code",
   "execution_count": 14,
   "metadata": {
    "collapsed": false
   },
   "outputs": [],
   "source": [
    "def get_card():\n",
    "    return np.random.choice(ranks)"
   ]
  },
  {
   "cell_type": "code",
   "execution_count": 15,
   "metadata": {
    "collapsed": true
   },
   "outputs": [],
   "source": [
    "def emulate_dealer(dealer):\n",
    "    while dealer < 17:\n",
    "        dealer += values[get_card()]\n",
    "    return dealer"
   ]
  },
  {
   "cell_type": "code",
   "execution_count": 16,
   "metadata": {
    "collapsed": true
   },
   "outputs": [],
   "source": [
    "def get_result(player, dealer):\n",
    "    if player == dealer:\n",
    "        return 0\n",
    "    if player < dealer or player > 21:\n",
    "        return -1\n",
    "    return 1"
   ]
  },
  {
   "cell_type": "code",
   "execution_count": 17,
   "metadata": {
    "collapsed": true
   },
   "outputs": [],
   "source": [
    "ϵ = 0.05"
   ]
  },
  {
   "cell_type": "code",
   "execution_count": 18,
   "metadata": {
    "collapsed": true
   },
   "outputs": [],
   "source": [
    "class StateAction:\n",
    "    def __init__(self, player_sum, dealer_card, useable_ace):\n",
    "        self.value = np.array([0,0])\n",
    "        self.returns = [[],[]]\n",
    "        self.policy = [0.5, 0.5]\n",
    "        self.action = ['hit', 'stick']\n",
    "        self.player_sum = player_sum\n",
    "        self.dealer_card = dealer_card\n",
    "        self.useable_ace = useable_ace\n",
    "        \n",
    "    def __repr__(self):\n",
    "        return \"player sum: {ps}, dealer card: {dc}, useable ace: {us}, value: {v}, actions: {a}, policy: {p}\".format(\n",
    "            ps=self.player_sum, dc=self.dealer_card, us=self.useable_ace, a=self.action, v=self.value, p=self.policy)\n",
    "    \n",
    "    def get_action(self):\n",
    "        return np.random.choice(self.action, p=self.policy)"
   ]
  },
  {
   "cell_type": "code",
   "execution_count": 19,
   "metadata": {
    "collapsed": true
   },
   "outputs": [],
   "source": [
    "db = 1\n",
    "pb = 12\n",
    "useable_ace = False\n",
    "max_iter = 5000"
   ]
  },
  {
   "cell_type": "code",
   "execution_count": 20,
   "metadata": {
    "collapsed": false
   },
   "outputs": [],
   "source": [
    "states = np.array([[[StateAction(ps, dc, us) for ps in range(12, 22)] for dc in range(1, 11)] for us in [True, False]])"
   ]
  },
  {
   "cell_type": "code",
   "execution_count": 21,
   "metadata": {
    "collapsed": false
   },
   "outputs": [],
   "source": [
    "total_score = [0]\n",
    "\n",
    "for i in range(max_iter):\n",
    "    useable_ace = ~useable_ace\n",
    "    used_ace = False\n",
    "    action = 'hit'\n",
    "    player = 0\n",
    "    dealer = values[get_card()]\n",
    "\n",
    "    while player < 12:\n",
    "        card = get_card()\n",
    "        if card == 'A' and useable_ace and ~used_ace:\n",
    "            player += 11\n",
    "            used_ace = True\n",
    "        else:\n",
    "            player += values[card]\n",
    "\n",
    "    if player <= 21:\n",
    "        curr_state = states[0 if useable_ace else 1, dealer - db, player - pb]\n",
    "        action = curr_state.get_action()\n",
    "        appearing_states = [(curr_state, action)]\n",
    "    \n",
    "    while player <= 21 and action == 'hit':\n",
    "        card = get_card()\n",
    "        if card == 'A' and useable_ace and ~used_ace:\n",
    "            player += 11\n",
    "            used_ace = True\n",
    "        else:\n",
    "            player += values[card]\n",
    "        if player > 21:\n",
    "            break\n",
    "        curr_state = states[0 if useable_ace else 1, dealer - db, player - pb]\n",
    "        action = curr_state.get_action()\n",
    "        appearing_states.append((curr_state, action))\n",
    "        \n",
    "    result = get_result(player, emulate_dealer(dealer))\n",
    "    total_score.append(total_score[-1] + result)\n",
    "    \n",
    "    for state, action in appearing_states:\n",
    "        state.returns[0 if action == 'hit' else 1].append(result)\n",
    "        tmp = state.returns[0 if action == 'hit' else 1]\n",
    "        state.value[0 if action == 'hit' else 1] = sum(tmp) / len(tmp)\n",
    "        \n",
    "    for state, _ in appearing_states:\n",
    "        if state.value[0] > state.value[1]:\n",
    "            ind1, ind2 = 0, 1\n",
    "        else:\n",
    "            ind1, ind2 = 1, 0\n",
    "        state.policy[ind1] = 1 - ϵ\n",
    "        state.policy[ind2] = ϵ\n",
    "        "
   ]
  },
  {
   "cell_type": "code",
   "execution_count": 22,
   "metadata": {
    "collapsed": false
   },
   "outputs": [
    {
     "data": {
      "text/plain": [
       "[<matplotlib.lines.Line2D at 0x776ec50>]"
      ]
     },
     "execution_count": 22,
     "metadata": {},
     "output_type": "execute_result"
    },
    {
     "data": {
      "image/png": "[encoded data removed]",
      "text/plain": [
       "<matplotlib.figure.Figure at 0x4690128>"
      ]
     },
     "metadata": {},
     "output_type": "display_data"
    }
   ],
   "source": [
    "total_score = np.array(total_score[1:])\n",
    "it = np.arange(1, max_iter+1)\n",
    "\n",
    "plt.plot(it, total_score/it)"
   ]
  },
  {
   "cell_type": "code",
   "execution_count": null,
   "metadata": {
    "collapsed": true
   },
   "outputs": [],
   "source": []
  }
 ],
 "metadata": {
  "kernelspec": {
   "display_name": "Python 3",
   "language": "python",
   "name": "python3"
  },
  "language_info": {
   "codemirror_mode": {
    "name": "ipython",
    "version": 3
   },
   "file_extension": ".py",
   "mimetype": "text/x-python",
   "name": "python",
   "nbconvert_exporter": "python",
   "pygments_lexer": "ipython3",
   "version": "3.5.3"
  }
 },
 "nbformat": 4,
 "nbformat_minor": 0
}
